{
 "cells": [
  {
   "cell_type": "code",
   "execution_count": 1,
   "metadata": {},
   "outputs": [
    {
     "data": {
      "text/plain": [
       "125.0"
      ]
     },
     "execution_count": 1,
     "metadata": {},
     "output_type": "execute_result"
    }
   ],
   "source": [
    "#Program to calculate profit of a seller\n",
    "\n",
    "cost_of_bag = 1.25\n",
    "profit = .2\n",
    "no_of_bags = 500\n",
    "profit_per_bag = cost_of_bag*profit\n",
    "total_profit = profit_per_bag*no_of_bags\n",
    "total_profit"
   ]
  },
  {
   "cell_type": "code",
   "execution_count": 1,
   "metadata": {},
   "outputs": [
    {
     "data": {
      "text/plain": [
       "['Elephant', True, 23, 45.6, ['apple, banana, chocolate'], 'World']"
      ]
     },
     "execution_count": 1,
     "metadata": {},
     "output_type": "execute_result"
    }
   ],
   "source": [
    "#Operations on Lists\n",
    "container_element = [\"Elephant\", True, 23, 45.6, [\"apple, banana, chocolate\"]]\n",
    "\n",
    "container_element.append(\"World\")  #.append() and .insert() are used for adding the elements in the list\n",
    "container_element.insert(2,\"Five\")\n",
    "\n",
    "container_element.remove(\"Elephant\")  #.remove() and .pop() are used for deleting the elements from the list\n",
    "container_element.pop(2)\n",
    "\n",
    "container_copy = container_element.copy()  #Any operations applied on the copy will not affect orignal\n",
    "container_copy\n",
    "\n",
    "container_copy = container_element  #Any operations performed on conatainer_copy will affect the\n",
    "container_copy                       # orignal one and vice-versa.\n"
   ]
  },
  {
   "cell_type": "code",
   "execution_count": 8,
   "metadata": {},
   "outputs": [
    {
     "name": "stdout",
     "output_type": "stream",
     "text": [
      "['Thakur', 'Sameeksh']\n"
     ]
    },
    {
     "data": {
      "text/plain": [
       "['Sameeksh', 'Thakur', 'is', 'from', 'SSTC']"
      ]
     },
     "execution_count": 8,
     "metadata": {},
     "output_type": "execute_result"
    }
   ],
   "source": [
    "#Some of the operations on Lists\n",
    "lst = [\"Sameeksh\", \"Thakur\"]\n",
    "lst.reverse()\n",
    "print(lst)\n",
    "\n",
    "#adding the elements of one list to another list\n",
    "lst.reverse()\n",
    "lst2 = [\"is\", \"from\", \"SSTC\"]\n",
    "lst3 = lst+lst2\n",
    "lst3"
   ]
  },
  {
   "cell_type": "code",
   "execution_count": 14,
   "metadata": {},
   "outputs": [
    {
     "name": "stdout",
     "output_type": "stream",
     "text": [
      "['is', 'from', 'Thakur', 'Sameeksh', 'SSTC']\n"
     ]
    },
    {
     "data": {
      "text/plain": [
       "['SSTC', 'Sameeksh', 'Thakur', 'from', 'is']"
      ]
     },
     "execution_count": 14,
     "metadata": {},
     "output_type": "execute_result"
    }
   ],
   "source": [
    "#Sorting the list elements in ascending order\n",
    "lst3.sort(reverse=True)\n",
    "print(lst3)\n",
    "\n",
    "#Sorting the list elements in descending order\n",
    "lst3.sort()\n",
    "lst3"
   ]
  },
  {
   "cell_type": "code",
   "execution_count": 13,
   "metadata": {},
   "outputs": [
    {
     "name": "stdout",
     "output_type": "stream",
     "text": [
      "2\n",
      "1\n"
     ]
    }
   ],
   "source": [
    "#Operations on tuples\n",
    "tple = 4, \"hello\", \"56\", 56, \"hello\"\n",
    "print(tple.count(\"hello\"))\n",
    "print(tple.count(56))  #Since 56 is integer while \"56\" is a string value\n",
    "\n"
   ]
  },
  {
   "cell_type": "code",
   "execution_count": 14,
   "metadata": {},
   "outputs": [
    {
     "data": {
      "text/plain": [
       "'Value1'"
      ]
     },
     "execution_count": 14,
     "metadata": {},
     "output_type": "execute_result"
    }
   ],
   "source": [
    "#Operations On Dictionaries\n",
    "dict = {\"Key1\" : \"Value1\", \"Key2\" : [\"Value2\", \"Value2\"]}  #Dictionaries conatains the key-value pair\n",
    "dict.keys()     #.keys() and .values() will give you the no. of keys and values\n",
    "dict.values()\n",
    "\n",
    "dict[\"Key1\"]        # to acces the value of \"Key1\"\n",
    "dict.pop(\"Key1\")    # to delete the values of \"Key1\""
   ]
  },
  {
   "cell_type": "code",
   "execution_count": null,
   "metadata": {},
   "outputs": [],
   "source": []
  }
 ],
 "metadata": {
  "kernelspec": {
   "display_name": "Python 3",
   "language": "python",
   "name": "python3"
  },
  "language_info": {
   "codemirror_mode": {
    "name": "ipython",
    "version": 3
   },
   "file_extension": ".py",
   "mimetype": "text/x-python",
   "name": "python",
   "nbconvert_exporter": "python",
   "pygments_lexer": "ipython3",
   "version": "3.9.6"
  },
  "orig_nbformat": 4,
  "vscode": {
   "interpreter": {
    "hash": "31f2aee4e71d21fbe5cf8b01ff0e069b9275f58929596ceb00d14d90e3e16cd6"
   }
  }
 },
 "nbformat": 4,
 "nbformat_minor": 2
}
