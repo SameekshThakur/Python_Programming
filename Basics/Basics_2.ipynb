{
 "cells": [
  {
   "attachments": {},
   "cell_type": "markdown",
   "metadata": {},
   "source": [
    "## Day2 Python Programming :\n",
    "\n",
    "**What are we going to learn today ?**\n",
    "* Branching and Conditionals (if-else, elif statements).\n",
    "* Loops (While Loops, for loops)\n",
    "* Functions and exception handling\n",
    "* Some Basic Questions"
   ]
  },
  {
   "attachments": {},
   "cell_type": "markdown",
   "metadata": {},
   "source": [
    "### Branching and Conditionals :-"
   ]
  },
  {
   "cell_type": "code",
   "execution_count": 1,
   "metadata": {},
   "outputs": [
    {
     "name": "stdout",
     "output_type": "stream",
     "text": [
      "5 is an odd number\n"
     ]
    }
   ],
   "source": [
    "# Program to check weather number is odd or even\n",
    "\n",
    "number = 5\n",
    "if number%2  == 0 :\n",
    "    print(\"{} is an even number\".format(number))\n",
    "else :\n",
    "    print(\"{} is an odd number\".format(number))"
   ]
  },
  {
   "cell_type": "code",
   "execution_count": 2,
   "metadata": {},
   "outputs": [
    {
     "name": "stdout",
     "output_type": "stream",
     "text": [
      "Today is Wednesday\n"
     ]
    }
   ],
   "source": [
    "# Checking the day\n",
    "\n",
    "day = \"Wednesday\"\n",
    "if day == \"Monday\" :\n",
    "    print(\"Today is Monday\")\n",
    "elif day == \"Tuesday\" :\n",
    "    print(\"Today is Tuesday\")\n",
    "elif day == \"Wednesday\" :\n",
    "    print(\"Today is Wednesday\")\n",
    "elif day == \"Thursday\" :\n",
    "    print(\"Today is Thursday\")\n",
    "elif day == \"Friday\" :\n",
    "    print(\"Today is Friday\")\n",
    "elif day == \"Saturday\" :\n",
    "    print(\"Today is Saturday\")\n",
    "else :\n",
    "    print(\"Its Holiday\")"
   ]
  },
  {
   "attachments": {},
   "cell_type": "markdown",
   "metadata": {},
   "source": [
    "**Note** :\n",
    "* Remember in case of if-if-else statements even if the condiion of if statement got true even then the other if statements will also execute.\n",
    "* While in case of a if-elif-else statements if one of the conditions hit true other elif conditions will not execute "
   ]
  },
  {
   "cell_type": "code",
   "execution_count": 3,
   "metadata": {},
   "outputs": [
    {
     "name": "stdout",
     "output_type": "stream",
     "text": [
      "6 is the greatest among all\n"
     ]
    }
   ],
   "source": [
    "# Checking which number is the largest among all the three\n",
    "\n",
    "num1 = 4\n",
    "num2 = 6\n",
    "num3 = 5\n",
    "\n",
    "\n",
    "if num1>num2:\n",
    "    if num1 > num3 :\n",
    "        print(\"{} is the greatest among all\".format(num1)) \n",
    "    else :\n",
    "        print(\"{} is the greatest among all\".format(num3)) \n",
    "\n",
    "else :\n",
    "    if num2 > num3 :\n",
    "        print(\"{} is the greatest among all\".format(num2)) \n",
    "    else :\n",
    "        print(\"{} is the greatest among all\".format(num3)) "
   ]
  },
  {
   "attachments": {},
   "cell_type": "markdown",
   "metadata": {},
   "source": [
    "### Loops :-"
   ]
  },
  {
   "cell_type": "code",
   "execution_count": 5,
   "metadata": {},
   "outputs": [
    {
     "name": "stdout",
     "output_type": "stream",
     "text": [
      "CPU times: user 3 µs, sys: 0 ns, total: 3 µs\n",
      "Wall time: 5.01 µs\n",
      "The factorial of 5 is :  120\n"
     ]
    }
   ],
   "source": [
    "# Program to calculate the factorial of 5 using while loop\n",
    "%time\n",
    "\n",
    "fact = 1\n",
    "i=1\n",
    "\n",
    "while i<=5 :\n",
    "    fact*=i\n",
    "    i+=1\n",
    "\n",
    "print(\"The factorial of 5 is : \",fact)\n",
    "\n",
    "\n"
   ]
  },
  {
   "cell_type": "code",
   "execution_count": 6,
   "metadata": {},
   "outputs": [
    {
     "name": "stdout",
     "output_type": "stream",
     "text": [
      "Monday is a working day.\n",
      "Tuesday is a working day.\n",
      "Wednesday is a working day.\n",
      "It's holiday for me\n"
     ]
    }
   ],
   "source": [
    "# Operation using for loop\n",
    "\n",
    "days = [\"Monday\", \"Tuesday\", \"Wednesday\", \"Thursday\", \"Friday\", \"Saturday\", \"Sunday\"]\n",
    "for day in days :\n",
    "    if day == \"Thursday\" :\n",
    "        print(\"It's holiday for me\")\n",
    "        break\n",
    "    print(\"{} is a working day.\".format(day))\n",
    "    \n"
   ]
  },
  {
   "cell_type": "code",
   "execution_count": 2,
   "metadata": {},
   "outputs": [
    {
     "name": "stdout",
     "output_type": "stream",
     "text": [
      "Employees with thier respective Id's :\n",
      "Id[0] = Sameeksh\n",
      "Id[1] = Shekhar\n",
      "Id[2] = Saurabh\n",
      "Id[3] = Dave\n",
      "Id[4] = John\n",
      "Id[5] = Brock\n"
     ]
    }
   ],
   "source": [
    "#Program to show the id's of individual persons\n",
    "employee = [\"Sameeksh\", \"Shekhar\", \"Saurabh\", \"Dave\", \"John\", \"Brock\"]\n",
    "print(\"Employees with thier respective Id's :\")\n",
    "for id, person in enumerate(employee) :\n",
    "    print(\"Id[{}] = {}\".format(id, person))\n",
    "\n",
    "\n"
   ]
  },
  {
   "cell_type": "code",
   "execution_count": 7,
   "metadata": {},
   "outputs": [
    {
     "name": "stdout",
     "output_type": "stream",
     "text": [
      "Sameeksh just follows General Shift\n",
      "Shekhar follows Morning Shift\n",
      "Shekhar follows Mid Shift\n",
      "Shekhar follows Night Shift\n",
      "Shekhar follows General Shift\n",
      "Saurabh just follows General Shift\n",
      "Dave follows Morning Shift\n",
      "Dave follows Mid Shift\n",
      "Dave follows Night Shift\n",
      "Dave follows General Shift\n",
      "John just follows General Shift\n",
      "Brock follows Morning Shift\n",
      "Brock follows Mid Shift\n",
      "Brock follows Night Shift\n",
      "Brock follows General Shift\n"
     ]
    }
   ],
   "source": [
    "#Using nested for loops\n",
    "Emp = employee.copy()\n",
    "Shifts = [\"Morning\", \"Mid\", \"Night\", \"General\"]\n",
    "\n",
    "for i in range(len(Emp)) :\n",
    "    for j in Shifts :\n",
    "        if(i%2 == 0) :\n",
    "            print(\"{} just follows General Shift\".format(Emp[i]))\n",
    "            break\n",
    "        print(\"{} follows {} Shift\".format(Emp[i], j))"
   ]
  },
  {
   "attachments": {},
   "cell_type": "markdown",
   "metadata": {},
   "source": [
    "### Functions and Exception Handling :-"
   ]
  },
  {
   "cell_type": "code",
   "execution_count": 9,
   "metadata": {},
   "outputs": [
    {
     "name": "stdout",
     "output_type": "stream",
     "text": [
      "Bonus to Sameeksh with Employee Id[0] : 5000\n",
      "Bonus to Saurabh with Employee Id[2] : 5000\n",
      "Bonus to John with Employee Id[4] : 5000\n"
     ]
    }
   ],
   "source": [
    "# Define a function which helps to provide bonus to employees with even id\n",
    "\n",
    "def bonus(Emp) :\n",
    "    bonus_to_emp = 5000\n",
    "    for i in range(len(Emp)) :\n",
    "        if i%2 == 0 :\n",
    "            print(\"Bonus to {} with Employee Id[{}] : {}\".format(Emp[i], i, bonus_to_emp))\n",
    "\n",
    "bonus(Emp)   #Function Call\n",
    "\n"
   ]
  },
  {
   "cell_type": "code",
   "execution_count": 2,
   "metadata": {},
   "outputs": [],
   "source": [
    "# Program to calculate lower Emi\n",
    "import math"
   ]
  },
  {
   "attachments": {},
   "cell_type": "markdown",
   "metadata": {},
   "source": [
    "**Formula for EMI is given by :**\n",
    "\n",
    "<img src=\"EMI.png\">\n",
    "\n",
    "where, \n",
    "* P = loan amount\n",
    "* n = number of months\n",
    "* r = rate of interest per month"
   ]
  },
  {
   "cell_type": "code",
   "execution_count": 3,
   "metadata": {},
   "outputs": [
    {
     "name": "stdout",
     "output_type": "stream",
     "text": [
      "Emi 1 is :  1518\n",
      "Emi 2 is :  1578\n",
      "1518 is the best option\n"
     ]
    }
   ],
   "source": [
    "def loan_emi(amount, rate, duration, down_payment=0) :\n",
    "    \"\"\"Documentation :\n",
    "    \n",
    "    This function helps you to calculate the emi on the following basis :\n",
    "    \n",
    "    amount - Total amount to be spent\n",
    "    duration - Duration of the Loan\n",
    "    rate - Rate of Interest (monthly)\n",
    "    down_payment(optional) - Optional Initial Payment\n",
    "    \n",
    "    \"\"\"\n",
    "    loan = amount - down_payment\n",
    "    emi = loan*rate*((1+rate)**duration)/(((1+rate)**duration) - 1)\n",
    "    return math.ceil(emi)\n",
    "\n",
    "emi_1 = loan_emi(130000, 0.1/12, 8*12, 30000)\n",
    "emi_2 = loan_emi(130000, 0.08/12, 10*12)\n",
    "\n",
    "print(\"Emi 1 is : \",emi_1)\n",
    "print(\"Emi 2 is : \",emi_2)\n",
    "\n",
    "if emi_1>emi_2 :\n",
    "    print(\"{} is the best option\".format(emi_2))\n",
    "else :\n",
    "    print(\"{} is the best option\".format(emi_1))\n",
    "\n",
    "\n"
   ]
  },
  {
   "cell_type": "code",
   "execution_count": 4,
   "metadata": {},
   "outputs": [
    {
     "name": "stdout",
     "output_type": "stream",
     "text": [
      "Help on function loan_emi in module __main__:\n",
      "\n",
      "loan_emi(amount, rate, duration, down_payment=0)\n",
      "    Documentation :\n",
      "    \n",
      "    This function helps you to calculate the emi on the following basis :\n",
      "    \n",
      "    amount - Total amount to be spent\n",
      "    duration - Duration of the Loan\n",
      "    rate - Rate of Interest (monthly)\n",
      "    down_payment(optional) - Optional Initial Payment\n",
      "\n"
     ]
    }
   ],
   "source": [
    "help(loan_emi) #help function will let you know about the task performed by any particular funtion"
   ]
  },
  {
   "attachments": {},
   "cell_type": "markdown",
   "metadata": {},
   "source": [
    "## Bonus Question :-"
   ]
  },
  {
   "attachments": {},
   "cell_type": "markdown",
   "metadata": {},
   "source": [
    "**City**                 : Paris  London  Dubai  Mumbai\n",
    "**Return_per_Flight($)** : 200    250     370    450\n",
    "**Hotel_per_day**        : 20     30      15     10\n",
    "**Weekely_car_rental**   : 200    120     80     70\n"
   ]
  },
  {
   "attachments": {},
   "cell_type": "markdown",
   "metadata": {},
   "source": [
    "Answer the following questions using the data above: \n",
    "1. If you're planning a 1-week long trip, which city should you visit to spend the least amount of money? \n",
    "2. How does the answer to the previous question change if you change the trip's duration to four days, ten days or two weeks? \n",
    "3. If your total budget for the trip is $1000, which city should you visit to maximize the duration of your trip? Which city should you visit if you want to minimize the duration? \n",
    "4. How does the answer to the previous question change if your budget is $600, $2000, or $1500?"
   ]
  },
  {
   "cell_type": "code",
   "execution_count": 7,
   "metadata": {},
   "outputs": [
    {
     "name": "stdout",
     "output_type": "stream",
     "text": [
      "Paris is the best city for a week trip with minimum amount of $540\n"
     ]
    }
   ],
   "source": [
    "# defining a function which helps to calculate total cost in a week for each city\n",
    "def total_cost_week(no_of_days, flight, hotel, car_rent) :\n",
    "    total = flight+hotel*no_of_days+car_rent\n",
    "    return total\n",
    "\n",
    "paris = total_cost_week(7, 200, 20, 200)\n",
    "london = total_cost_week(7, 250, 30, 120)  #for 7 days trip, similarly can calculate for other days too\n",
    "dubai = total_cost_week(7, 370, 15, 80)\n",
    "mumbai = total_cost_week(7, 450, 10, 70)\n",
    "\n",
    "\n",
    "min_cost = min(paris, london, dubai, mumbai)\n",
    "\n",
    "city_value = [paris, london, dubai, mumbai]\n",
    "for i,j in enumerate(city_value) :\n",
    "    city_lst = [\"Paris\", \"London\", \"Dubai\", \"Mumbai\"]\n",
    "    if(j==min_cost) :\n",
    "        print(\"{} is the best city for a week trip with minimum amount of ${}\".format(city_lst[i], min_cost))\n",
    "\n",
    "\n"
   ]
  },
  {
   "cell_type": "code",
   "execution_count": 18,
   "metadata": {},
   "outputs": [
    {
     "name": "stdout",
     "output_type": "stream",
     "text": [
      "15\n",
      "15\n",
      "22\n",
      "27\n",
      "Mumbai is the best city for maximum days of 27 within a budget of $1000\n"
     ]
    }
   ],
   "source": [
    "# defining a function which helps to calculate total cost if the budget is fixed\n",
    "def budget_fix(amt, flight, hotel, car_rent) :\n",
    "    no_of_days = 1\n",
    "    while(True) :\n",
    "        total = flight+hotel*no_of_days+car_rent*math.ceil(no_of_days/7)\n",
    "        if(total>=amt) :\n",
    "            break\n",
    "        no_of_days+=1\n",
    "    return no_of_days\n",
    "\n",
    "\n",
    "p = budget_fix(1000, 200, 20, 200)\n",
    "l = budget_fix(1000, 250, 30, 120)  #for different budget the function will give you correct no of days\n",
    "d = budget_fix(1000, 370, 15, 80)\n",
    "m = budget_fix(1000, 450, 10, 70)\n",
    "print(p)\n",
    "print(l)\n",
    "print(d)\n",
    "print(m)\n",
    "city_val = [p, l, d, m]\n",
    "city_lst\n",
    "max_days = max(p, l, d, m)\n",
    "for x,y in enumerate(city_val) :\n",
    "    city_lst = [\"Paris\", \"London\", \"Dubai\", \"Mumbai\"]\n",
    "    if(y==max_days) :\n",
    "        print(\"{} is the best city for maximum days of {} within a budget of $1000\".format(city_lst[x], max_days))\n",
    "\n"
   ]
  },
  {
   "cell_type": "code",
   "execution_count": null,
   "metadata": {},
   "outputs": [],
   "source": []
  }
 ],
 "metadata": {
  "kernelspec": {
   "display_name": "Python 3",
   "language": "python",
   "name": "python3"
  },
  "language_info": {
   "codemirror_mode": {
    "name": "ipython",
    "version": 3
   },
   "file_extension": ".py",
   "mimetype": "text/x-python",
   "name": "python",
   "nbconvert_exporter": "python",
   "pygments_lexer": "ipython3",
   "version": "3.9.6"
  },
  "orig_nbformat": 4,
  "vscode": {
   "interpreter": {
    "hash": "31f2aee4e71d21fbe5cf8b01ff0e069b9275f58929596ceb00d14d90e3e16cd6"
   }
  }
 },
 "nbformat": 4,
 "nbformat_minor": 2
}
