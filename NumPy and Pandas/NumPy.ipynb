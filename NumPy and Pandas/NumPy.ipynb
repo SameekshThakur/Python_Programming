{
 "cells": [
  {
   "attachments": {},
   "cell_type": "markdown",
   "metadata": {},
   "source": [
    "# Numpy :\n",
    "Numpy is one of the most useful and important Libarary in python. Numpy library is implemented using C++, and hence its functions and operations are quite faster than using Lists in Python with Loops and other methods.\n",
    "* Usually Numpy contains various functions for Mathematical, Arithemetic, Statistics, Arrays and etc.\n",
    "* Today I am going to deal with some of the questions from Numpy.\n",
    "* And I am going to mention some of the most common NumPy functions. "
   ]
  },
  {
   "cell_type": "code",
   "execution_count": 13,
   "metadata": {},
   "outputs": [
    {
     "data": {
      "text/plain": [
       "array([1, 2, 3])"
      ]
     },
     "execution_count": 13,
     "metadata": {},
     "output_type": "execute_result"
    }
   ],
   "source": [
    "import numpy as np\n",
    "arr = np.array([1,2,3])\n",
    "arr"
   ]
  },
  {
   "cell_type": "code",
   "execution_count": 14,
   "metadata": {},
   "outputs": [
    {
     "name": "stdout",
     "output_type": "stream",
     "text": [
      "1\n",
      "2\n"
     ]
    },
    {
     "data": {
      "text/plain": [
       "numpy.ndarray"
      ]
     },
     "execution_count": 14,
     "metadata": {},
     "output_type": "execute_result"
    }
   ],
   "source": [
    "#checking the type of arr and accessing any element from index\n",
    "print(arr[0])\n",
    "print(arr[1])\n",
    "type(arr)"
   ]
  },
  {
   "cell_type": "code",
   "execution_count": 15,
   "metadata": {},
   "outputs": [
    {
     "data": {
      "text/plain": [
       "74"
      ]
     },
     "execution_count": 15,
     "metadata": {},
     "output_type": "execute_result"
    }
   ],
   "source": [
    "#dot product of two arrays\n",
    "arr1 = np.array([3,4,5])\n",
    "arr2 = np.array([5,6,7])\n",
    "np.dot(arr1, arr2)"
   ]
  },
  {
   "attachments": {},
   "cell_type": "markdown",
   "metadata": {},
   "source": [
    "Operations with Multi-Dimensional Arrays\n"
   ]
  },
  {
   "cell_type": "code",
   "execution_count": 16,
   "metadata": {},
   "outputs": [
    {
     "name": "stdout",
     "output_type": "stream",
     "text": [
      "[[2 3 5]\n",
      " [4 5 6]]\n",
      "[[10 11 12]\n",
      " [13 14 15]]\n"
     ]
    }
   ],
   "source": [
    "#Creation of Multidimensional array\n",
    "arr_multiD_1 = np.array([[2,3,5], [4,5,6]])\n",
    "arr_multiD_2 = np.array([[10,11,12], [13,14,15]])\n",
    "print(arr_multiD_1)\n",
    "print(arr_multiD_2)"
   ]
  },
  {
   "cell_type": "code",
   "execution_count": 17,
   "metadata": {},
   "outputs": [
    {
     "name": "stdout",
     "output_type": "stream",
     "text": [
      "int64\n",
      "(2, 3)\n"
     ]
    }
   ],
   "source": [
    "#Checking the shape of any array and datatype\n",
    "print(arr_multiD_2.dtype)\n",
    "print(arr_multiD_2.shape)"
   ]
  },
  {
   "cell_type": "code",
   "execution_count": 18,
   "metadata": {},
   "outputs": [
    {
     "data": {
      "text/plain": [
       "array([43, 62])"
      ]
     },
     "execution_count": 18,
     "metadata": {},
     "output_type": "execute_result"
    }
   ],
   "source": [
    "#Performing the matrix multiplication\n",
    "np.matmul(arr_multiD_1, arr1)\n",
    "#OR\n",
    "arr_multiD_1 @ arr1"
   ]
  },
  {
   "cell_type": "code",
   "execution_count": 19,
   "metadata": {},
   "outputs": [
    {
     "data": {
      "text/plain": [
       "array([[ 2,  3,  5, 10, 11, 12],\n",
       "       [ 4,  5,  6, 13, 14, 15]])"
      ]
     },
     "execution_count": 19,
     "metadata": {},
     "output_type": "execute_result"
    }
   ],
   "source": [
    "#Conacatenating two arrays\n",
    "np.concatenate((arr_multiD_1, arr_multiD_2),1)"
   ]
  },
  {
   "cell_type": "code",
   "execution_count": 20,
   "metadata": {},
   "outputs": [
    {
     "name": "stdout",
     "output_type": "stream",
     "text": [
      "[ 9 12 15]\n",
      "[2 3 4]\n",
      "[0.5 1.  1.5]\n",
      "[-1  0  1]\n"
     ]
    }
   ],
   "source": [
    "#Arithemetic operations on array\n",
    "print(arr1*3)\n",
    "print(arr+1)\n",
    "print(arr/2)\n",
    "print(arr-2)"
   ]
  },
  {
   "cell_type": "code",
   "execution_count": 22,
   "metadata": {},
   "outputs": [
    {
     "name": "stdout",
     "output_type": "stream",
     "text": [
      "[False False False]\n",
      "[ True  True  True]\n",
      "[False False False]\n",
      "[ True  True  True]\n"
     ]
    }
   ],
   "source": [
    "#Comparision Operators between arrays\n",
    "print(arr1 == arr2)\n",
    "print(arr1!=arr2)\n",
    "print(arr1>arr2)\n",
    "print(arr1<arr2)"
   ]
  },
  {
   "cell_type": "code",
   "execution_count": 23,
   "metadata": {},
   "outputs": [
    {
     "data": {
      "text/plain": [
       "0"
      ]
     },
     "execution_count": 23,
     "metadata": {},
     "output_type": "execute_result"
    }
   ],
   "source": [
    "#To check the no of equal values in both the arrays we use .sum()\n",
    "(arr1 == arr2).sum()"
   ]
  },
  {
   "cell_type": "code",
   "execution_count": 24,
   "metadata": {},
   "outputs": [
    {
     "data": {
      "text/plain": [
       "5"
      ]
     },
     "execution_count": 24,
     "metadata": {},
     "output_type": "execute_result"
    }
   ],
   "source": [
    "#To access array elements using indexing\n",
    "arr_multiD_1[0,2]"
   ]
  },
  {
   "cell_type": "code",
   "execution_count": 25,
   "metadata": {},
   "outputs": [
    {
     "data": {
      "text/plain": [
       "array([[5, 6],\n",
       "       [8, 9]])"
      ]
     },
     "execution_count": 25,
     "metadata": {},
     "output_type": "execute_result"
    }
   ],
   "source": [
    "multiD = np.array([[1,2,3,4], [4,5,6,7], [7,8,9,10]])\n",
    "multiD[1:, 1:3]"
   ]
  },
  {
   "attachments": {},
   "cell_type": "markdown",
   "metadata": {},
   "source": [
    "Other ways via which we can create arrays"
   ]
  },
  {
   "cell_type": "code",
   "execution_count": 30,
   "metadata": {},
   "outputs": [
    {
     "name": "stdout",
     "output_type": "stream",
     "text": [
      "[[0. 0. 0.]\n",
      " [0. 0. 0.]\n",
      " [0. 0. 0.]]\n",
      "[[[1. 1.]\n",
      "  [1. 1.]\n",
      "  [1. 1.]]\n",
      "\n",
      " [[1. 1.]\n",
      "  [1. 1.]\n",
      "  [1. 1.]]]\n",
      "[[5. 0. 0.]\n",
      " [0. 5. 0.]\n",
      " [0. 0. 5.]]\n"
     ]
    }
   ],
   "source": [
    "#To create array of zeroes, ones, identitity\n",
    "print(np.zeros((3,3)))\n",
    "print(np.ones([2,3,2]))\n",
    "print(np.eye(3)*5)"
   ]
  },
  {
   "cell_type": "code",
   "execution_count": 43,
   "metadata": {},
   "outputs": [
    {
     "name": "stdout",
     "output_type": "stream",
     "text": [
      "[[0.40887406 0.46749613 0.71644754]\n",
      " [0.49944108 0.94667784 0.43331773]]\n",
      "\n",
      "[[-0.44528787 -0.8464665   0.02633867 -0.9639914 ]\n",
      " [-0.90420913  0.54093034 -0.58273497 -0.51086105]\n",
      " [-0.83912512 -0.14168114  1.46269104  0.07593339]]\n",
      "\n",
      "[[18 28 23 19]\n",
      " [22 18 27 27]\n",
      " [17 27 18 19]\n",
      " [22 18 28 24]]\n",
      "\n",
      "[10 13 16 19 22 25 28 31 34 37 40 43 46 49 52 55 58 61 64 67 70 73 76 79\n",
      " 82 85 88]\n",
      "\n",
      "[[42 42 42]\n",
      " [42 42 42]]\n",
      "\n",
      "[ 1. 20.]\n"
     ]
    }
   ],
   "source": [
    "#To create array of random numbers in the range 1>arr>0\n",
    "print(np.random.rand(2,3))\n",
    "print()\n",
    "#To create arrays of random numbers in the range -2<arr<2\n",
    "print(np.random.randn(3,4))\n",
    "print()\n",
    "#To create an array of random integers\n",
    "print(np.random.randint(10,30,size=(4,4)))\n",
    "print()\n",
    "#To create array using other functions\n",
    "print(np.arange(10,90,step=3))\n",
    "print()\n",
    "print(np.full([2,3], fill_value=42))\n",
    "print()\n",
    "print(np.linspace(1,20,2))"
   ]
  },
  {
   "cell_type": "code",
   "execution_count": 52,
   "metadata": {},
   "outputs": [
    {
     "data": {
      "text/plain": [
       "array([5, 4, 3])"
      ]
     },
     "execution_count": 52,
     "metadata": {},
     "output_type": "execute_result"
    }
   ],
   "source": []
  },
  {
   "cell_type": "code",
   "execution_count": null,
   "metadata": {},
   "outputs": [],
   "source": []
  }
 ],
 "metadata": {
  "kernelspec": {
   "display_name": "Python 3",
   "language": "python",
   "name": "python3"
  },
  "language_info": {
   "codemirror_mode": {
    "name": "ipython",
    "version": 3
   },
   "file_extension": ".py",
   "mimetype": "text/x-python",
   "name": "python",
   "nbconvert_exporter": "python",
   "pygments_lexer": "ipython3",
   "version": "3.10.9"
  },
  "orig_nbformat": 4,
  "vscode": {
   "interpreter": {
    "hash": "e2ac67ac7aa20eb85842a79d3f9b729441791f4bb021f6bf9f7f5607bc20b0b8"
   }
  }
 },
 "nbformat": 4,
 "nbformat_minor": 2
}
