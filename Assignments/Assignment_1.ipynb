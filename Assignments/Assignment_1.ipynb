{
 "cells": [
  {
   "attachments": {},
   "cell_type": "markdown",
   "metadata": {},
   "source": [
    "## Problem 1 - Variables and Datatypes"
   ]
  },
  {
   "cell_type": "code",
   "execution_count": 3,
   "metadata": {},
   "outputs": [
    {
     "name": "stdout",
     "output_type": "stream",
     "text": [
      "Sameeksh Thakur do have Iphone since his age is 20\n"
     ]
    }
   ],
   "source": [
    "# Q1) A program which shows that a person hold an iphone if his age is elligible.\n",
    "name = \"Sameeksh Thakur\"\n",
    "age = 20\n",
    "hasPhone = \"do have Iphone\" if age>=18 else \"is not elligible for Iphone\"\n",
    "print(\"{} {} since his age is {}\".format(name, hasPhone, age))\n",
    "# You can check for different ages, but age should be legit"
   ]
  },
  {
   "cell_type": "code",
   "execution_count": 4,
   "metadata": {},
   "outputs": [
    {
     "name": "stdout",
     "output_type": "stream",
     "text": [
      "The Key Name has the value Sameeksh Thakur of type <class 'str'>\n",
      "The Key Age has the value 20 of type <class 'int'>\n",
      "The Key HasPhone has the value do have Iphone of type <class 'str'>\n"
     ]
    }
   ],
   "source": [
    "# Q2) Using a for loop to show the type of value each key holds in a dictionary\n",
    "dict = {\"Name\" : \"Sameeksh Thakur\", \"Age\" : 20, \n",
    "\"HasPhone\" : \"do have Iphone\" if age>=18 else \"is not elligible for Iphone\"}\n",
    "\n",
    "for val in dict :\n",
    "    print(\"The Key {} has the value {} of type {}\".format(val, dict[val], type(dict[val])))\n"
   ]
  },
  {
   "attachments": {},
   "cell_type": "markdown",
   "metadata": {},
   "source": [
    "## Problem 2 - Working with Lists"
   ]
  },
  {
   "cell_type": "code",
   "execution_count": 11,
   "metadata": {},
   "outputs": [
    {
     "name": "stdout",
     "output_type": "stream",
     "text": [
      "My favorite color is Blue\n",
      "I have 3 pet(s)\n",
      "I have previous programming experience.\n"
     ]
    }
   ],
   "source": [
    "# Q3) Create a list conataining : favourite color, no. of pets, boolean value and apply conditions\n",
    "my_list = [\"Blue\", 3, True]\n",
    "print(\"My favorite color is {}\".format(my_list[0]))\n",
    "print(\"I have {} pet(s)\".format(my_list[1]))\n",
    "if my_list[2] :\n",
    "    print(\"I have previous programming experience.\")\n",
    "else :\n",
    "    print(\"I don't have any programming experience.\")"
   ]
  },
  {
   "cell_type": "code",
   "execution_count": 14,
   "metadata": {},
   "outputs": [
    {
     "name": "stdout",
     "output_type": "stream",
     "text": [
      "There are 4 elements in the list\n"
     ]
    }
   ],
   "source": [
    "# Q4) Adding, Removing and showing the no. of elements present in the list\n",
    "my_list.append(0)\n",
    "my_list.pop(0)\n",
    "print(\"There are {} elements in the list\".format(len(my_list)))"
   ]
  },
  {
   "attachments": {},
   "cell_type": "markdown",
   "metadata": {},
   "source": [
    "## Problem 3 - Conditions and Loops"
   ]
  },
  {
   "cell_type": "code",
   "execution_count": 17,
   "metadata": {},
   "outputs": [
    {
     "name": "stdout",
     "output_type": "stream",
     "text": [
      "The sum of all numbers b/w 18 and 534 which are divisible by 7 are :  20461\n"
     ]
    }
   ],
   "source": [
    "# Q5) To calculate and display the sum of all numbers divisible by 7 b/w 18 and 534\n",
    "sum_of_numbers = 0\n",
    "for i in range(18, 534) :\n",
    "    if(i%7==0) :\n",
    "        sum_of_numbers+=i\n",
    "    else :\n",
    "        continue\n",
    "print(\"The sum of all numbers b/w 18 and 534 which are divisible by 7 are : \",sum_of_numbers)"
   ]
  },
  {
   "attachments": {},
   "cell_type": "markdown",
   "metadata": {},
   "source": [
    "## Problem 4 - Flying to Bahamas"
   ]
  },
  {
   "attachments": {},
   "cell_type": "markdown",
   "metadata": {},
   "source": [
    "Q7) A travel company wants to fly a plane to the Bahamas. Flying the plane costs 5000 dollars. So far, 29 people have signed up for the trip. If the company charges 200 dollars per ticket, what is the pro¦ t made by the company?"
   ]
  },
  {
   "cell_type": "code",
   "execution_count": 1,
   "metadata": {},
   "outputs": [
    {
     "name": "stdout",
     "output_type": "stream",
     "text": [
      "The company makes a profit of 800 dollars\n"
     ]
    }
   ],
   "source": [
    "cost_of_flying_pane = 5000\n",
    "no_of_people = 29\n",
    "ticket_per_person = 200\n",
    "ticket_sell = 200*29\n",
    "total_profit = ticket_sell - cost_of_flying_pane\n",
    "print(\"The company makes a profit of {} dollars\".format(total_profit))"
   ]
  },
  {
   "attachments": {},
   "cell_type": "markdown",
   "metadata": {},
   "source": [
    "Q8) Out of the 29 people who took the § ight, only 12 buy tickets to return from the Bahamas on the same plane. If the § ying the plane back also costs 5000 dollars, and does the company make an overall pro¦ t or loss? The company charges the same fee of 200 dollars per ticket for the return § igh"
   ]
  },
  {
   "cell_type": "code",
   "execution_count": 2,
   "metadata": {},
   "outputs": [
    {
     "name": "stdout",
     "output_type": "stream",
     "text": [
      "Company in profit of 1800\n"
     ]
    }
   ],
   "source": [
    "overall_cost_of_flying_plane = 10000\n",
    "overall_ticket_sell = 200*(29+12)\n",
    "company_income = overall_cost_of_flying_plane - overall_ticket_sell\n",
    "if overall_ticket_sell >= 0 :\n",
    "    print(\"Company in profit of {} dollars\".format(company_income))\n",
    "else :\n",
    "    print(\"Company in loss of {} dollars\".format(company_income))"
   ]
  },
  {
   "attachments": {},
   "cell_type": "markdown",
   "metadata": {},
   "source": [
    "## Problem 5 - Twitter Sentiment Analysis"
   ]
  },
  {
   "cell_type": "code",
   "execution_count": 1,
   "metadata": {},
   "outputs": [],
   "source": [
    "tweets = [ \"Wow, what a great day today!! #sunshine\", \n",
    "\"I feel sad about the things going on around us. #covid19\", \n",
    "\"This is a really nice song. #linkinpark\", \n",
    "\"The python programming language is useful for data science\", \n",
    "\"Why do bad things happen to me?\", \n",
    "\"Apple announces the release of the new iPhone 14. Fans are excited.\", \n",
    "\"Spent my day with family!! #happy\", \n",
    "\"Check out my blog post on common string operations in Python.\", \n",
    "\"Freecodecamp has great coding tutorials. #skillup\" ]"
   ]
  },
  {
   "attachments": {},
   "cell_type": "markdown",
   "metadata": {},
   "source": [
    "**Questions :**\n",
    "* How many tweets does the dataset contain?\n",
    "* Determine the number of tweets in the dataset that can be classified as happy.\n",
    "* What fraction of the total number of tweets are happy?\n",
    "* Determine the number of tweets in the dataset that can be classi¦ ed as sad.\n",
    "* What fraction of the total number of tweets are sad?\n",
    "* Number of neutral tweets\n",
    "* sentiment score\n",
    "* Overall sentiment score based on the Graph :\n",
    "\n",
    "\n",
    "<img src = \"Assignment_1 Sentiment Graph.png\" height=300>"
   ]
  },
  {
   "cell_type": "code",
   "execution_count": 3,
   "metadata": {},
   "outputs": [
    {
     "data": {
      "text/plain": [
       "9"
      ]
     },
     "execution_count": 3,
     "metadata": {},
     "output_type": "execute_result"
    }
   ],
   "source": [
    "no_of_tweets = len(tweets)\n",
    "no_of_tweets"
   ]
  },
  {
   "attachments": {},
   "cell_type": "markdown",
   "metadata": {},
   "source": [
    "Let's create two lists of words: happy_words and sad_words . We will use these to check if a tweet is happy or sad"
   ]
  },
  {
   "cell_type": "code",
   "execution_count": 6,
   "metadata": {},
   "outputs": [],
   "source": [
    "happy_words = ['great', 'excited', 'happy', 'nice', 'wonderful', 'amazing', 'good']\n",
    "sad_words = ['sad', 'bad', 'tragic', 'unhappy', 'worst']"
   ]
  },
  {
   "cell_type": "code",
   "execution_count": 10,
   "metadata": {},
   "outputs": [
    {
     "name": "stdout",
     "output_type": "stream",
     "text": [
      "No of Happy counts : 5\n"
     ]
    }
   ],
   "source": [
    "happy_tweets = False\n",
    "happy_count = 0\n",
    "for i in tweets :\n",
    "    for j in happy_words  :\n",
    "        if j in i :\n",
    "            happy_tweets = True\n",
    "            happy_count+=1\n",
    "\n",
    "print(\"No of Happy counts :\",happy_count)\n",
    "        "
   ]
  },
  {
   "cell_type": "code",
   "execution_count": 9,
   "metadata": {},
   "outputs": [
    {
     "name": "stdout",
     "output_type": "stream",
     "text": [
      "No of Sad Counts : 2\n"
     ]
    }
   ],
   "source": [
    "sad_tweets = False\n",
    "sad_count = 0\n",
    "for words in tweets :\n",
    "    for word in sad_words  :\n",
    "        if word in words :\n",
    "            sad_tweets = True\n",
    "            sad_count+=1\n",
    "\n",
    "print(\"No of Sad Counts :\",sad_count)\n",
    "        \n",
    "\n"
   ]
  },
  {
   "cell_type": "code",
   "execution_count": 11,
   "metadata": {},
   "outputs": [
    {
     "data": {
      "text/plain": [
       "0.5555555555555556"
      ]
     },
     "execution_count": 11,
     "metadata": {},
     "output_type": "execute_result"
    }
   ],
   "source": [
    "fraction_of_happy_tweets = happy_count/len(tweets)\n",
    "fraction_of_happy_tweets"
   ]
  },
  {
   "cell_type": "code",
   "execution_count": 15,
   "metadata": {},
   "outputs": [
    {
     "data": {
      "text/plain": [
       "0.2222222222222222"
      ]
     },
     "execution_count": 15,
     "metadata": {},
     "output_type": "execute_result"
    }
   ],
   "source": [
    "fraction_of_sad_tweets = sad_count/len(tweets)\n",
    "fraction_of_sad_tweets"
   ]
  },
  {
   "cell_type": "code",
   "execution_count": 17,
   "metadata": {},
   "outputs": [
    {
     "data": {
      "text/plain": [
       "0.33333333333333337"
      ]
     },
     "execution_count": 17,
     "metadata": {},
     "output_type": "execute_result"
    }
   ],
   "source": [
    "sentiment_score = fraction_of_happy_tweets - fraction_of_sad_tweets\n",
    "sentiment_score"
   ]
  },
  {
   "cell_type": "code",
   "execution_count": 16,
   "metadata": {},
   "outputs": [
    {
     "data": {
      "text/plain": [
       "2"
      ]
     },
     "execution_count": 16,
     "metadata": {},
     "output_type": "execute_result"
    }
   ],
   "source": [
    "neutral_tweets = len(tweets) - happy_count - sad_count\n",
    "neutral_tweets"
   ]
  },
  {
   "cell_type": "code",
   "execution_count": 18,
   "metadata": {},
   "outputs": [
    {
     "data": {
      "text/plain": [
       "1.2"
      ]
     },
     "execution_count": 18,
     "metadata": {},
     "output_type": "execute_result"
    }
   ],
   "source": [
    "overall_sentiment_score = 0.3+0.4+0.2+0.1+0.0-0.1+0.2+0.1\n",
    "overall_sentiment_score"
   ]
  }
 ],
 "metadata": {
  "kernelspec": {
   "display_name": "Python 3",
   "language": "python",
   "name": "python3"
  },
  "language_info": {
   "codemirror_mode": {
    "name": "ipython",
    "version": 3
   },
   "file_extension": ".py",
   "mimetype": "text/x-python",
   "name": "python",
   "nbconvert_exporter": "python",
   "pygments_lexer": "ipython3",
   "version": "3.9.6"
  },
  "orig_nbformat": 4,
  "vscode": {
   "interpreter": {
    "hash": "31f2aee4e71d21fbe5cf8b01ff0e069b9275f58929596ceb00d14d90e3e16cd6"
   }
  }
 },
 "nbformat": 4,
 "nbformat_minor": 2
}
